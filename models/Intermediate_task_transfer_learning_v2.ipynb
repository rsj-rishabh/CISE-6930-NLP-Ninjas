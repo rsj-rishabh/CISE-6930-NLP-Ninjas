{
 "cells": [
  {
   "cell_type": "code",
   "execution_count": null,
   "id": "a6c27b9d-4a1b-488d-8c34-6549834e9571",
   "metadata": {},
   "outputs": [],
   "source": []
  },
  {
   "cell_type": "code",
   "execution_count": 14,
   "id": "acbff53c-ccea-4f26-b901-24e589aee6f0",
   "metadata": {},
   "outputs": [
    {
     "name": "stdout",
     "output_type": "stream",
     "text": [
      "        class    id                                               text\n",
      "0     notsarc     1  If that's true, then Freedom of Speech is doom...\n",
      "1     notsarc     2  Neener neener - is it time to go in from the p...\n",
      "2     notsarc     3  Just like the plastic gun fear, the armour pie...\n",
      "3     notsarc     4  So geology is a religion because we weren't he...\n",
      "4     notsarc     5  Well done Monty. Mark that up as your first ev...\n",
      "...       ...   ...                                                ...\n",
      "6515     sarc  6516  depends on when the baby bird died.   run alon...\n",
      "6516     sarc  6517  ok, sheesh, to clarify, women who arent aborti...\n",
      "6517     sarc  6518  so..   eh??   hows this sound?   will it fly w...\n",
      "6518     sarc  6519  I think we should put to a vote, the right of ...\n",
      "6519     sarc  6520  You have a blob of tissue in your \"but(sic)\"? ...\n",
      "\n",
      "[6520 rows x 3 columns]\n"
     ]
    }
   ],
   "source": [
    "import pandas as pd\n",
    "\n",
    "df = pd.read_csv(r'gen_dataset.csv')\n",
    "print(df)\n",
    "text_data = list(df[\"text\"])\n",
    "class_data = df[\"class\"].to_numpy()\n",
    "for i in range(len(class_data)):\n",
    "    if class_data[i]=='notsarc':\n",
    "        class_data[i]=0\n",
    "    else:\n",
    "        class_data[i]=1"
   ]
  },
  {
   "cell_type": "code",
   "execution_count": 25,
   "id": "179be15e-d9ff-43d1-83bc-0b5cb6cda765",
   "metadata": {},
   "outputs": [
    {
     "name": "stdout",
     "output_type": "stream",
     "text": [
      "                                                  review sentiment\n",
      "0      One of the other reviewers has mentioned that ...  positive\n",
      "1      A wonderful little production. <br /><br />The...  positive\n",
      "2      I thought this was a wonderful way to spend ti...  positive\n",
      "3      Basically there's a family where a little boy ...  negative\n",
      "4      Petter Mattei's \"Love in the Time of Money\" is...  positive\n",
      "...                                                  ...       ...\n",
      "49995  I thought this movie did a down right good job...  positive\n",
      "49996  Bad plot, bad dialogue, bad acting, idiotic di...  negative\n",
      "49997  I am a Catholic taught in parochial elementary...  negative\n",
      "49998  I'm going to have to disagree with the previou...  negative\n",
      "49999  No one expects the Star Trek movies to be high...  negative\n",
      "\n",
      "[50000 rows x 2 columns]\n"
     ]
    }
   ],
   "source": [
    "df = pd.read_csv(r'imdb_dataset.csv')\n",
    "print(df)\n",
    "text_data1 = list(df[\"review\"])\n",
    "class_data1 = df[\"sentiment\"].to_numpy()\n",
    "for i in range(len(class_data1)):\n",
    "    if class_data1[i]=='negative':\n",
    "        class_data1[i]=1\n",
    "    else:\n",
    "        class_data1[i]=0"
   ]
  },
  {
   "cell_type": "code",
   "execution_count": 26,
   "id": "5771c3ce-a814-4afc-9863-7587f4790414",
   "metadata": {},
   "outputs": [
    {
     "data": {
      "text/plain": [
       "array([0, 0, 0, ..., 1, 1, 1], dtype=object)"
      ]
     },
     "execution_count": 26,
     "metadata": {},
     "output_type": "execute_result"
    }
   ],
   "source": [
    "class_data = list(class_data)\n",
    "class_data1"
   ]
  },
  {
   "cell_type": "code",
   "execution_count": 23,
   "id": "4b56b027-6f26-4286-85b7-0f1a60d2709b",
   "metadata": {},
   "outputs": [
    {
     "name": "stdout",
     "output_type": "stream",
     "text": [
      "cuda\n"
     ]
    },
    {
     "name": "stderr",
     "output_type": "stream",
     "text": [
      "Some weights of the model checkpoint at bert-base-uncased were not used when initializing BertModel: ['cls.predictions.transform.dense.bias', 'cls.seq_relationship.bias', 'cls.predictions.decoder.weight', 'cls.predictions.transform.dense.weight', 'cls.seq_relationship.weight', 'cls.predictions.transform.LayerNorm.bias', 'cls.predictions.transform.LayerNorm.weight', 'cls.predictions.bias']\n",
      "- This IS expected if you are initializing BertModel from the checkpoint of a model trained on another task or with another architecture (e.g. initializing a BertForSequenceClassification model from a BertForPreTraining model).\n",
      "- This IS NOT expected if you are initializing BertModel from the checkpoint of a model that you expect to be exactly identical (initializing a BertForSequenceClassification model from a BertForSequenceClassification model).\n"
     ]
    },
    {
     "name": "stdout",
     "output_type": "stream",
     "text": [
      "Epoch  1\n",
      "-------------------------------------------------------------------------------\n",
      "0.29737370189276935\n",
      "Epoch  2\n",
      "-------------------------------------------------------------------------------\n",
      "0.18280126903175126\n",
      "Epoch  3\n",
      "-------------------------------------------------------------------------------\n",
      "0.09722322550848346\n",
      "Epoch  4\n",
      "-------------------------------------------------------------------------------\n",
      "0.052874713493046316\n",
      "Epoch  5\n",
      "-------------------------------------------------------------------------------\n",
      "0.03429361733124411\n",
      "Epoch  6\n",
      "-------------------------------------------------------------------------------\n",
      "0.02507596433852802\n",
      "Epoch  7\n",
      "-------------------------------------------------------------------------------\n",
      "0.021117356427392278\n",
      "Epoch  8\n",
      "-------------------------------------------------------------------------------\n",
      "0.019125640004978593\n",
      "Epoch  9\n",
      "-------------------------------------------------------------------------------\n",
      "0.015270659581770315\n",
      "Epoch  10\n",
      "-------------------------------------------------------------------------------\n",
      "0.014394858835070233\n"
     ]
    }
   ],
   "source": [
    "import torch\n",
    "import torch.nn as nn\n",
    "import torch.optim as optim\n",
    "from transformers import BertTokenizer, BertModel\n",
    "\n",
    "device = torch.device(\"cuda\" if torch.cuda.is_available() else \"cpu\")\n",
    "print(device)\n",
    "\n",
    "# Load the pre-trained BERT model and tokenizer\n",
    "model = BertModel.from_pretrained('bert-base-uncased')\n",
    "model.to(device)\n",
    "tokenizer = BertTokenizer.from_pretrained('bert-base-uncased')\n",
    "\n",
    "# Define the classification model\n",
    "class BertClassifier(nn.Module):\n",
    "    def __init__(self, bert_model, num_classes):\n",
    "        super(BertClassifier, self).__init__()\n",
    "        self.bert = bert_model\n",
    "        self.fc = nn.Linear(768, num_classes)\n",
    "\n",
    "    def forward(self, input_ids, attention_mask):\n",
    "        outputs = self.bert(input_ids=input_ids, attention_mask=attention_mask)\n",
    "        pooled_output = outputs[1]\n",
    "        logits = self.fc(pooled_output)\n",
    "        return logits\n",
    "\n",
    "# Load the training data\n",
    "# train_texts = [\"Example sentence 1\", \"Example sentence 2\", ...]\n",
    "# train_labels = [0, 1, ...]\n",
    "\n",
    "# Tokenize the text data\n",
    "train_encodings = tokenizer(list(text_data1), padding=True, truncation=True, max_length=128)\n",
    "\n",
    "# Convert the data into PyTorch tensors\n",
    "train_dataset = torch.utils.data.TensorDataset(\n",
    "    torch.tensor(train_encodings['input_ids']),\n",
    "    torch.tensor(train_encodings['attention_mask']),\n",
    "    torch.tensor(list(class_data1))\n",
    ")\n",
    "\n",
    "# Define the training parameters\n",
    "classifier = BertClassifier(model, num_classes=2)\n",
    "classifier.to(device)\n",
    "criterion = nn.CrossEntropyLoss()\n",
    "optimizer = optim.Adam(classifier.parameters(), lr=2e-5)\n",
    "train_loader = torch.utils.data.DataLoader(train_dataset, batch_size=32, shuffle=True)\n",
    "\n",
    "# Train the BERT classifier\n",
    "classifier.train()\n",
    "for epoch in range(10):\n",
    "    print(\"Epoch \", epoch+1)\n",
    "    losses = []\n",
    "    for idx, batch in enumerate(train_loader):\n",
    "        # batch.to(device)\n",
    "        if(idx % 20 == 0):\n",
    "            print(\"-\", end=\"\")\n",
    "        optimizer.zero_grad()\n",
    "        outputs = classifier(input_ids=batch[0].to(device), attention_mask=batch[1].to(device))\n",
    "        loss = criterion(outputs, batch[2].to(device))\n",
    "        loss.backward()\n",
    "        losses.append(loss.cpu().detach().numpy())\n",
    "        optimizer.step()\n",
    "    print()\n",
    "    print(sum(losses) / len(losses))"
   ]
  },
  {
   "cell_type": "code",
   "execution_count": null,
   "id": "a4e11d07-a92f-4382-b814-1ab2e094f771",
   "metadata": {},
   "outputs": [],
   "source": []
  },
  {
   "cell_type": "code",
   "execution_count": 28,
   "id": "d54c6def-01e2-4ef4-9179-354abd5fb53b",
   "metadata": {},
   "outputs": [
    {
     "name": "stdout",
     "output_type": "stream",
     "text": [
      "Epoch  1\n",
      "----------------------------------------------------------------------------------\n",
      "0.07238836074604751\n",
      "Epoch  2\n",
      "----------------------------------------------------------------------------------\n",
      "0.04742912574947249\n",
      "Epoch  3\n",
      "----------------------------------------------------------------------------------\n",
      "0.036937671164531\n",
      "Epoch  4\n",
      "----------------------------------------------------------------------------------\n",
      "0.031243254078603105\n",
      "Epoch  5\n",
      "----------------------------------------------------------------------------------\n",
      "0.02510889248996432\n",
      "Epoch  6\n",
      "----------------------------------------------------------------------------------\n",
      "0.02301007009422604\n",
      "Epoch  7\n",
      "----------------------------------------------------------------------------------\n",
      "0.020071982094066174\n",
      "Epoch  8\n",
      "----------------------------------------------------------------------------------\n",
      "0.025563417584688882\n",
      "Epoch  9\n",
      "----------------------------------------------------------------------------------\n",
      "0.020532808503626786\n",
      "Epoch  10\n",
      "----------------------------------------------------------------------------------\n",
      "0.01421211688751887\n"
     ]
    }
   ],
   "source": [
    "\n",
    "\n",
    "\n",
    "\n",
    "# Load the training data\n",
    "# train_texts = [\"Example sentence 1\", \"Example sentence 2\", ...]\n",
    "# train_labels = [0, 1, ...]\n",
    "\n",
    "# Tokenize the text data\n",
    "train_encodings = tokenizer(list(text_data), padding=True, truncation=True, max_length=128)\n",
    "\n",
    "# Convert the data into PyTorch tensors\n",
    "train_dataset = torch.utils.data.TensorDataset(\n",
    "    torch.tensor(train_encodings['input_ids']),\n",
    "    torch.tensor(train_encodings['attention_mask']),\n",
    "    torch.tensor(list(class_data))\n",
    ")\n",
    "\n",
    "# Define the training parameters\n",
    "# classifier = BertClassifier(model, num_classes=2)\n",
    "# classifier.to(device)\n",
    "# criterion = nn.CrossEntropyLoss()\n",
    "# optimizer = optim.Adam(classifier.parameters(), lr=2e-5)\n",
    "train_loader = torch.utils.data.DataLoader(train_dataset, batch_size=4, shuffle=True)\n",
    "\n",
    "# Train the BERT classifier\n",
    "classifier.train()\n",
    "for epoch in range(10):\n",
    "    print(\"Epoch \", epoch+1)\n",
    "    losses = []\n",
    "    for idx, batch in enumerate(train_loader):\n",
    "        # batch.to(device)\n",
    "        if(idx % 20 == 0):\n",
    "            print(\"-\", end=\"\")\n",
    "        optimizer.zero_grad()\n",
    "        outputs = classifier(input_ids=batch[0].to(device), attention_mask=batch[1].to(device))\n",
    "        loss = criterion(outputs, batch[2].to(device))\n",
    "        loss.backward()\n",
    "        losses.append(loss.cpu().detach().numpy())\n",
    "        optimizer.step()\n",
    "    print()\n",
    "    print(sum(losses) / len(losses))"
   ]
  },
  {
   "cell_type": "code",
   "execution_count": null,
   "id": "22ca1506-6955-43f8-b51a-7e0d5e838de5",
   "metadata": {},
   "outputs": [],
   "source": []
  }
 ],
 "metadata": {
  "kernelspec": {
   "display_name": "PyTorch-1.8.1",
   "language": "python",
   "name": "pytorch-1.8.1"
  },
  "language_info": {
   "codemirror_mode": {
    "name": "ipython",
    "version": 3
   },
   "file_extension": ".py",
   "mimetype": "text/x-python",
   "name": "python",
   "nbconvert_exporter": "python",
   "pygments_lexer": "ipython3",
   "version": "3.9.5"
  }
 },
 "nbformat": 4,
 "nbformat_minor": 5
}
