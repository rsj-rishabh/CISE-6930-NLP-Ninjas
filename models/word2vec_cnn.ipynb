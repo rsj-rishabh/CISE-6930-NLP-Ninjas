{
  "metadata": {
    "kernelspec": {
      "language": "python",
      "display_name": "Python 3",
      "name": "python3"
    },
    "language_info": {
      "name": "python",
      "version": "3.6.6",
      "mimetype": "text/x-python",
      "codemirror_mode": {
        "name": "ipython",
        "version": 3
      },
      "pygments_lexer": "ipython3",
      "nbconvert_exporter": "python",
      "file_extension": ".py"
    },
    "colab": {
      "provenance": []
    },
    "accelerator": "GPU",
    "gpuClass": "standard"
  },
  "nbformat_minor": 0,
  "nbformat": 4,
  "cells": [
    {
      "cell_type": "code",
      "source": [
        "import numpy as np\n",
        "import pandas as pd\n",
        "from gensim.models.word2vec import Word2Vec\n",
        "from sklearn.model_selection import train_test_split\n",
        "from keras.utils import to_categorical\n",
        "from keras.layers import Dense, Dropout, Conv1D, MaxPool1D, GlobalMaxPool1D, Embedding, Activation\n",
        "from keras.preprocessing.text import Tokenizer\n",
        "from keras.utils import pad_sequences\n",
        "from keras.models import Sequential\n",
        "from keras import layers\n",
        "import re\n",
        "import nltk\n",
        "from nltk.corpus import stopwords\n",
        "from nltk.stem.snowball import PorterStemmer\n",
        "from sklearn import preprocessing"
      ],
      "metadata": {
        "_uuid": "8f2839f25d086af736a60e9eeb907d3b93b6e0e5",
        "_cell_guid": "b1076dfc-b9ad-4769-8c92-a6c4dae69d19",
        "execution": {
          "iopub.status.busy": "2023-04-09T16:20:18.542499Z",
          "iopub.execute_input": "2023-04-09T16:20:18.542861Z",
          "iopub.status.idle": "2023-04-09T16:20:18.550373Z",
          "shell.execute_reply.started": "2023-04-09T16:20:18.542819Z",
          "shell.execute_reply": "2023-04-09T16:20:18.549337Z"
        },
        "trusted": true,
        "id": "ioA_xcCmHh0h"
      },
      "execution_count": 49,
      "outputs": []
    },
    {
      "cell_type": "code",
      "source": [
        "def preprocess_text(sen):\n",
        "    # Remove punctuations and numbers\n",
        "    sentence = re.sub('[^a-zA-Z]', ' ', sen)\n",
        "\n",
        "    # Single character removal\n",
        "    sentence = re.sub(r\"\\s+[a-zA-Z]\\s+\", ' ', sentence)\n",
        "\n",
        "    # Removing multiple spaces\n",
        "    sentence = re.sub(r'\\s+', ' ', sentence)\n",
        "    \n",
        "    stops = stopwords.words('english')\n",
        "    #print(stops)\n",
        "    porter = PorterStemmer()\n",
        "    for word in sentence.split():\n",
        "        if word in stops:\n",
        "            sentence = sentence.replace(word, '')\n",
        "        sentence = sentence.replace(word, porter.stem(word))\n",
        "    return sentence.lower()"
      ],
      "metadata": {
        "_uuid": "d629ff2d2480ee46fbb7e2d37f6b5fab8052498a",
        "_cell_guid": "79c7e3d0-c299-4dcb-8224-4455121ee9b0",
        "execution": {
          "iopub.status.busy": "2023-04-09T16:20:20.997569Z",
          "iopub.execute_input": "2023-04-09T16:20:20.998127Z",
          "iopub.status.idle": "2023-04-09T16:20:21.006216Z",
          "shell.execute_reply.started": "2023-04-09T16:20:20.998055Z",
          "shell.execute_reply": "2023-04-09T16:20:21.005513Z"
        },
        "trusted": true,
        "id": "Fbj6YvqwHh0j"
      },
      "execution_count": 50,
      "outputs": []
    },
    {
      "cell_type": "code",
      "source": [
        "nltk.download('stopwords')\n",
        "df = pd.read_csv('GEN-sarc-notsarc.csv')\n",
        "df=df.append(pd.read_csv('HYP-sarc-notsarc.csv'))\n",
        "df=df.append(pd.read_csv('RQ-sarc-notsarc.csv'))\n",
        "df['Message'] = df['text'].apply(preprocess_text)\n",
        "df.head(10)"
      ],
      "metadata": {
        "execution": {
          "iopub.status.busy": "2023-04-09T18:34:20.481372Z",
          "iopub.execute_input": "2023-04-09T18:34:20.481724Z",
          "iopub.status.idle": "2023-04-09T18:34:30.108120Z",
          "shell.execute_reply.started": "2023-04-09T18:34:20.481683Z",
          "shell.execute_reply": "2023-04-09T18:34:30.107126Z"
        },
        "trusted": true,
        "colab": {
          "base_uri": "https://localhost:8080/",
          "height": 486
        },
        "id": "sxSFgDDDHh0k",
        "outputId": "37eb8421-f893-44c8-c412-3cf0f9e6d544"
      },
      "execution_count": 51,
      "outputs": [
        {
          "output_type": "stream",
          "name": "stderr",
          "text": [
            "[nltk_data] Downloading package stopwords to /root/nltk_data...\n",
            "[nltk_data]   Package stopwords is already up-to-date!\n",
            "<ipython-input-51-0185b583679b>:3: FutureWarning: The frame.append method is deprecated and will be removed from pandas in a future version. Use pandas.concat instead.\n",
            "  df=df.append(pd.read_csv('HYP-sarc-notsarc.csv'))\n",
            "<ipython-input-51-0185b583679b>:4: FutureWarning: The frame.append method is deprecated and will be removed from pandas in a future version. Use pandas.concat instead.\n",
            "  df=df.append(pd.read_csv('RQ-sarc-notsarc.csv'))\n"
          ]
        },
        {
          "output_type": "execute_result",
          "data": {
            "text/plain": [
              "     class  id                                               text  \\\n",
              "0  notsarc   1  If that's true, then Freedom of Speech is doom...   \n",
              "1  notsarc   2  Neener neener - is it time to go in from the p...   \n",
              "2  notsarc   3  Just like the plastic gun fear, the armour pie...   \n",
              "3  notsarc   4  So geology is a religion because we weren't he...   \n",
              "4  notsarc   5  Well done Monty. Mark that up as your first ev...   \n",
              "5  notsarc   6  But the whole process was done in the courts u...   \n",
              "6  notsarc   7  so we would penalize financially those who wan...   \n",
              "7  notsarc   8  So, IOW, you are saying that those of us who a...   \n",
              "8  notsarc   9  your probably referring to the mexican basin c...   \n",
              "9  notsarc  10  Not in matters of atheism. Tell me, when scien...   \n",
              "\n",
              "                                             Message  \n",
              "0  if  true  freedom  speech  doom harass  subjec...  \n",
              "1        neener neener   time  go    playground yet   \n",
              "2  just like  plastic gun fear  armour pierc bull...  \n",
              "3         so geolog  religion   ren   see rock form   \n",
              "4  well done monti mark     first ever honest  ac...  \n",
              "5  but  whole process  de   court usg  process se...  \n",
              "6                  would penal financi   want   kid   \n",
              "7  so iow   say    us   intellig enough  realiz  ...  \n",
              "8   probabl refer   mexic b crater ms extct  prov...  \n",
              "9  not  matter  am tell   scienc dcov sothg  seem...  "
            ],
            "text/html": [
              "\n",
              "  <div id=\"df-5e0e697f-8b08-4693-9fd8-fd3e4555eb71\">\n",
              "    <div class=\"colab-df-container\">\n",
              "      <div>\n",
              "<style scoped>\n",
              "    .dataframe tbody tr th:only-of-type {\n",
              "        vertical-align: middle;\n",
              "    }\n",
              "\n",
              "    .dataframe tbody tr th {\n",
              "        vertical-align: top;\n",
              "    }\n",
              "\n",
              "    .dataframe thead th {\n",
              "        text-align: right;\n",
              "    }\n",
              "</style>\n",
              "<table border=\"1\" class=\"dataframe\">\n",
              "  <thead>\n",
              "    <tr style=\"text-align: right;\">\n",
              "      <th></th>\n",
              "      <th>class</th>\n",
              "      <th>id</th>\n",
              "      <th>text</th>\n",
              "      <th>Message</th>\n",
              "    </tr>\n",
              "  </thead>\n",
              "  <tbody>\n",
              "    <tr>\n",
              "      <th>0</th>\n",
              "      <td>notsarc</td>\n",
              "      <td>1</td>\n",
              "      <td>If that's true, then Freedom of Speech is doom...</td>\n",
              "      <td>if  true  freedom  speech  doom harass  subjec...</td>\n",
              "    </tr>\n",
              "    <tr>\n",
              "      <th>1</th>\n",
              "      <td>notsarc</td>\n",
              "      <td>2</td>\n",
              "      <td>Neener neener - is it time to go in from the p...</td>\n",
              "      <td>neener neener   time  go    playground yet</td>\n",
              "    </tr>\n",
              "    <tr>\n",
              "      <th>2</th>\n",
              "      <td>notsarc</td>\n",
              "      <td>3</td>\n",
              "      <td>Just like the plastic gun fear, the armour pie...</td>\n",
              "      <td>just like  plastic gun fear  armour pierc bull...</td>\n",
              "    </tr>\n",
              "    <tr>\n",
              "      <th>3</th>\n",
              "      <td>notsarc</td>\n",
              "      <td>4</td>\n",
              "      <td>So geology is a religion because we weren't he...</td>\n",
              "      <td>so geolog  religion   ren   see rock form</td>\n",
              "    </tr>\n",
              "    <tr>\n",
              "      <th>4</th>\n",
              "      <td>notsarc</td>\n",
              "      <td>5</td>\n",
              "      <td>Well done Monty. Mark that up as your first ev...</td>\n",
              "      <td>well done monti mark     first ever honest  ac...</td>\n",
              "    </tr>\n",
              "    <tr>\n",
              "      <th>5</th>\n",
              "      <td>notsarc</td>\n",
              "      <td>6</td>\n",
              "      <td>But the whole process was done in the courts u...</td>\n",
              "      <td>but  whole process  de   court usg  process se...</td>\n",
              "    </tr>\n",
              "    <tr>\n",
              "      <th>6</th>\n",
              "      <td>notsarc</td>\n",
              "      <td>7</td>\n",
              "      <td>so we would penalize financially those who wan...</td>\n",
              "      <td>would penal financi   want   kid</td>\n",
              "    </tr>\n",
              "    <tr>\n",
              "      <th>7</th>\n",
              "      <td>notsarc</td>\n",
              "      <td>8</td>\n",
              "      <td>So, IOW, you are saying that those of us who a...</td>\n",
              "      <td>so iow   say    us   intellig enough  realiz  ...</td>\n",
              "    </tr>\n",
              "    <tr>\n",
              "      <th>8</th>\n",
              "      <td>notsarc</td>\n",
              "      <td>9</td>\n",
              "      <td>your probably referring to the mexican basin c...</td>\n",
              "      <td>probabl refer   mexic b crater ms extct  prov...</td>\n",
              "    </tr>\n",
              "    <tr>\n",
              "      <th>9</th>\n",
              "      <td>notsarc</td>\n",
              "      <td>10</td>\n",
              "      <td>Not in matters of atheism. Tell me, when scien...</td>\n",
              "      <td>not  matter  am tell   scienc dcov sothg  seem...</td>\n",
              "    </tr>\n",
              "  </tbody>\n",
              "</table>\n",
              "</div>\n",
              "      <button class=\"colab-df-convert\" onclick=\"convertToInteractive('df-5e0e697f-8b08-4693-9fd8-fd3e4555eb71')\"\n",
              "              title=\"Convert this dataframe to an interactive table.\"\n",
              "              style=\"display:none;\">\n",
              "        \n",
              "  <svg xmlns=\"http://www.w3.org/2000/svg\" height=\"24px\"viewBox=\"0 0 24 24\"\n",
              "       width=\"24px\">\n",
              "    <path d=\"M0 0h24v24H0V0z\" fill=\"none\"/>\n",
              "    <path d=\"M18.56 5.44l.94 2.06.94-2.06 2.06-.94-2.06-.94-.94-2.06-.94 2.06-2.06.94zm-11 1L8.5 8.5l.94-2.06 2.06-.94-2.06-.94L8.5 2.5l-.94 2.06-2.06.94zm10 10l.94 2.06.94-2.06 2.06-.94-2.06-.94-.94-2.06-.94 2.06-2.06.94z\"/><path d=\"M17.41 7.96l-1.37-1.37c-.4-.4-.92-.59-1.43-.59-.52 0-1.04.2-1.43.59L10.3 9.45l-7.72 7.72c-.78.78-.78 2.05 0 2.83L4 21.41c.39.39.9.59 1.41.59.51 0 1.02-.2 1.41-.59l7.78-7.78 2.81-2.81c.8-.78.8-2.07 0-2.86zM5.41 20L4 18.59l7.72-7.72 1.47 1.35L5.41 20z\"/>\n",
              "  </svg>\n",
              "      </button>\n",
              "      \n",
              "  <style>\n",
              "    .colab-df-container {\n",
              "      display:flex;\n",
              "      flex-wrap:wrap;\n",
              "      gap: 12px;\n",
              "    }\n",
              "\n",
              "    .colab-df-convert {\n",
              "      background-color: #E8F0FE;\n",
              "      border: none;\n",
              "      border-radius: 50%;\n",
              "      cursor: pointer;\n",
              "      display: none;\n",
              "      fill: #1967D2;\n",
              "      height: 32px;\n",
              "      padding: 0 0 0 0;\n",
              "      width: 32px;\n",
              "    }\n",
              "\n",
              "    .colab-df-convert:hover {\n",
              "      background-color: #E2EBFA;\n",
              "      box-shadow: 0px 1px 2px rgba(60, 64, 67, 0.3), 0px 1px 3px 1px rgba(60, 64, 67, 0.15);\n",
              "      fill: #174EA6;\n",
              "    }\n",
              "\n",
              "    [theme=dark] .colab-df-convert {\n",
              "      background-color: #3B4455;\n",
              "      fill: #D2E3FC;\n",
              "    }\n",
              "\n",
              "    [theme=dark] .colab-df-convert:hover {\n",
              "      background-color: #434B5C;\n",
              "      box-shadow: 0px 1px 3px 1px rgba(0, 0, 0, 0.15);\n",
              "      filter: drop-shadow(0px 1px 2px rgba(0, 0, 0, 0.3));\n",
              "      fill: #FFFFFF;\n",
              "    }\n",
              "  </style>\n",
              "\n",
              "      <script>\n",
              "        const buttonEl =\n",
              "          document.querySelector('#df-5e0e697f-8b08-4693-9fd8-fd3e4555eb71 button.colab-df-convert');\n",
              "        buttonEl.style.display =\n",
              "          google.colab.kernel.accessAllowed ? 'block' : 'none';\n",
              "\n",
              "        async function convertToInteractive(key) {\n",
              "          const element = document.querySelector('#df-5e0e697f-8b08-4693-9fd8-fd3e4555eb71');\n",
              "          const dataTable =\n",
              "            await google.colab.kernel.invokeFunction('convertToInteractive',\n",
              "                                                     [key], {});\n",
              "          if (!dataTable) return;\n",
              "\n",
              "          const docLinkHtml = 'Like what you see? Visit the ' +\n",
              "            '<a target=\"_blank\" href=https://colab.research.google.com/notebooks/data_table.ipynb>data table notebook</a>'\n",
              "            + ' to learn more about interactive tables.';\n",
              "          element.innerHTML = '';\n",
              "          dataTable['output_type'] = 'display_data';\n",
              "          await google.colab.output.renderOutput(dataTable, element);\n",
              "          const docLink = document.createElement('div');\n",
              "          docLink.innerHTML = docLinkHtml;\n",
              "          element.appendChild(docLink);\n",
              "        }\n",
              "      </script>\n",
              "    </div>\n",
              "  </div>\n",
              "  "
            ]
          },
          "metadata": {},
          "execution_count": 51
        }
      ]
    },
    {
      "cell_type": "code",
      "source": [],
      "metadata": {
        "id": "Je1G7dp2JpMg"
      },
      "execution_count": null,
      "outputs": []
    },
    {
      "cell_type": "code",
      "source": [
        "mes = []\n",
        "for i in df['Message']:\n",
        "    mes.append(i.split())\n",
        "print(mes[:2])"
      ],
      "metadata": {
        "execution": {
          "iopub.status.busy": "2023-04-09T16:23:55.941444Z",
          "iopub.execute_input": "2023-04-09T16:23:55.941747Z",
          "iopub.status.idle": "2023-04-09T16:23:55.970771Z",
          "shell.execute_reply.started": "2023-04-09T16:23:55.941692Z",
          "shell.execute_reply": "2023-04-09T16:23:55.969755Z"
        },
        "trusted": true,
        "colab": {
          "base_uri": "https://localhost:8080/"
        },
        "id": "IdcN0Zn6Hh0l",
        "outputId": "596fbc6a-226b-4f3c-8e48-ac6afcc020b0"
      },
      "execution_count": 52,
      "outputs": [
        {
          "output_type": "stream",
          "name": "stdout",
          "text": [
            "[['if', 'true', 'freedom', 'speech', 'doom', 'harass', 'subject', 'now', 'claim', 'book', 'like', 'harass', 'ban'], ['neener', 'neener', 'time', 'go', 'playground', 'yet']]\n"
          ]
        }
      ]
    },
    {
      "cell_type": "code",
      "source": [
        "word2vec_model = Word2Vec(mes, vector_size=500, window=3, min_count=1, workers=16)\n",
        "print(word2vec_model)"
      ],
      "metadata": {
        "execution": {
          "iopub.status.busy": "2023-04-09T16:23:55.972285Z",
          "iopub.execute_input": "2023-04-09T16:23:55.972542Z",
          "iopub.status.idle": "2023-04-09T16:23:57.904569Z",
          "shell.execute_reply.started": "2023-04-09T16:23:55.972497Z",
          "shell.execute_reply": "2023-04-09T16:23:57.903695Z"
        },
        "trusted": true,
        "colab": {
          "base_uri": "https://localhost:8080/"
        },
        "id": "Xt3_bh36Hh0l",
        "outputId": "ec8338df-5fd7-4548-fb2d-b06b4c4ade8a"
      },
      "execution_count": 16,
      "outputs": [
        {
          "output_type": "stream",
          "name": "stdout",
          "text": [
            "Word2Vec<vocab=25613, vector_size=500, alpha=0.025>\n"
          ]
        }
      ]
    },
    {
      "cell_type": "code",
      "source": [
        "token = Tokenizer(25613)\n",
        "token.fit_on_texts(df['Message'])\n",
        "text = token.texts_to_sequences(df['Message'])\n",
        "text = pad_sequences(text, 75)\n",
        "print(text[:2])"
      ],
      "metadata": {
        "execution": {
          "iopub.status.busy": "2023-04-09T18:36:39.108269Z",
          "iopub.execute_input": "2023-04-09T18:36:39.108616Z",
          "iopub.status.idle": "2023-04-09T18:36:39.676079Z",
          "shell.execute_reply.started": "2023-04-09T18:36:39.108564Z",
          "shell.execute_reply": "2023-04-09T18:36:39.675239Z"
        },
        "trusted": true,
        "colab": {
          "base_uri": "https://localhost:8080/"
        },
        "id": "YodO6TUXHh0m",
        "outputId": "4a36d97d-9220-4ecb-ec86-a886a5f44b51"
      },
      "execution_count": 17,
      "outputs": [
        {
          "output_type": "stream",
          "name": "stdout",
          "text": [
            "[[   0    0    0    0    0    0    0    0    0    0    0    0    0    0\n",
            "     0    0    0    0    0    0    0    0    0    0    0    0    0    0\n",
            "     0    0    0    0    0    0    0    0    0    0    0    0    0    0\n",
            "     0    0    0    0    0    0    0    0    0    0    0    0    0    0\n",
            "     0    0    0    0    0    0   44   94  606  619 3565 3566  308  440\n",
            "    77  188    8 3566  328]\n",
            " [   0    0    0    0    0    0    0    0    0    0    0    0    0    0\n",
            "     0    0    0    0    0    0    0    0    0    0    0    0    0    0\n",
            "     0    0    0    0    0    0    0    0    0    0    0    0    0    0\n",
            "     0    0    0    0    0    0    0    0    0    0    0    0    0    0\n",
            "     0    0    0    0    0    0    0    0    0    0    0    0    0 8745\n",
            "  8745   50   22 4924  102]]\n"
          ]
        }
      ]
    },
    {
      "cell_type": "code",
      "source": [
        "le = preprocessing.LabelEncoder()\n",
        "y = le.fit_transform(df['class'])\n",
        "y = to_categorical(y)\n",
        "y[:5]\n"
      ],
      "metadata": {
        "execution": {
          "iopub.status.busy": "2023-04-09T18:52:25.706916Z",
          "iopub.execute_input": "2023-04-09T18:52:25.707403Z",
          "iopub.status.idle": "2023-04-09T18:52:25.717792Z",
          "shell.execute_reply.started": "2023-04-09T18:52:25.707336Z",
          "shell.execute_reply": "2023-04-09T18:52:25.716870Z"
        },
        "trusted": true,
        "colab": {
          "base_uri": "https://localhost:8080/"
        },
        "id": "oj44r-DPHh0n",
        "outputId": "dbd9b12f-5691-43e8-cd2b-b08a2a172e0b"
      },
      "execution_count": 18,
      "outputs": [
        {
          "output_type": "execute_result",
          "data": {
            "text/plain": [
              "array([[1., 0.],\n",
              "       [1., 0.],\n",
              "       [1., 0.],\n",
              "       [1., 0.],\n",
              "       [1., 0.]], dtype=float32)"
            ]
          },
          "metadata": {},
          "execution_count": 18
        }
      ]
    },
    {
      "cell_type": "code",
      "source": [
        "x_train, x_test, y_train, y_test = train_test_split(np.array(text), y, test_size=0.2, stratify=y,random_state=42)"
      ],
      "metadata": {
        "execution": {
          "iopub.status.busy": "2023-04-09T18:37:15.380454Z",
          "iopub.execute_input": "2023-04-09T18:37:15.380828Z",
          "iopub.status.idle": "2023-04-09T18:37:15.438776Z",
          "shell.execute_reply.started": "2023-04-09T18:37:15.380784Z",
          "shell.execute_reply": "2023-04-09T18:37:15.438029Z"
        },
        "trusted": true,
        "id": "bBGnFXyjHh0n"
      },
      "execution_count": 19,
      "outputs": []
    },
    {
      "cell_type": "code",
      "source": [
        "\n",
        "import keras\n",
        "keras_model = keras.models.Sequential()\n",
        "keras_model.add(keras.layers.Embedding(input_dim=len(word2vec_model.wv.key_to_index), output_dim=500, input_length=75, weights=[word2vec_model.wv.vectors],  trainable=True))\n",
        "\n",
        "keras_model.add(Dropout(0.2))\n",
        "keras_model.add(Conv1D(50, 3, activation='relu', padding='same', strides=1))\n",
        "keras_model.add(Conv1D(50, 3, activation='relu', padding='same', strides=1))\n",
        "keras_model.add(MaxPool1D())\n",
        "keras_model.add(Dropout(0.2))\n",
        "keras_model.add(Conv1D(100, 3, activation='relu', padding='same', strides=1))\n",
        "keras_model.add(Conv1D(100, 3, activation='relu', padding='same', strides=1))\n",
        "keras_model.add(MaxPool1D())\n",
        "keras_model.add(Dropout(0.2))\n",
        "keras_model.add(Conv1D(200, 3, activation='relu', padding='same', strides=1))\n",
        "keras_model.add(Conv1D(200, 3, activation='relu', padding='same', strides=1))\n",
        "keras_model.add(GlobalMaxPool1D())\n",
        "keras_model.add(Dropout(0.2))\n",
        "keras_model.add(Dense(200))\n",
        "keras_model.add(Activation('relu'))\n",
        "keras_model.add(Dropout(0.2))\n",
        "keras_model.add(Dense(2))\n",
        "keras_model.add(Activation('softmax'))\n",
        "keras_model.compile(loss='binary_crossentropy', metrics=['acc'], optimizer='adam')\n",
        "keras_model.fit(x_train, y_train, batch_size=16, epochs=10, validation_data=(x_test, y_test))"
      ],
      "metadata": {
        "execution": {
          "iopub.status.busy": "2023-04-09T16:27:32.444092Z",
          "iopub.execute_input": "2023-04-09T16:27:32.444734Z",
          "iopub.status.idle": "2023-04-09T16:38:18.056761Z",
          "shell.execute_reply.started": "2023-04-09T16:27:32.444668Z",
          "shell.execute_reply": "2023-04-09T16:38:18.055499Z"
        },
        "trusted": true,
        "colab": {
          "base_uri": "https://localhost:8080/"
        },
        "id": "Ojegf_OAHh0o",
        "outputId": "1a8cd1cd-4eb8-455c-860a-182e1d098b3f"
      },
      "execution_count": 20,
      "outputs": [
        {
          "output_type": "stream",
          "name": "stdout",
          "text": [
            "Epoch 1/10\n",
            "470/470 [==============================] - 57s 101ms/step - loss: 0.6939 - acc: 0.5055 - val_loss: 0.6932 - val_acc: 0.5000\n",
            "Epoch 2/10\n",
            "470/470 [==============================] - 13s 27ms/step - loss: 0.6932 - acc: 0.5021 - val_loss: 0.6931 - val_acc: 0.5011\n",
            "Epoch 3/10\n",
            "470/470 [==============================] - 10s 22ms/step - loss: 0.6387 - acc: 0.6432 - val_loss: 0.6350 - val_acc: 0.6353\n",
            "Epoch 4/10\n",
            "470/470 [==============================] - 8s 18ms/step - loss: 0.4339 - acc: 0.8034 - val_loss: 0.7137 - val_acc: 0.6608\n",
            "Epoch 5/10\n",
            "470/470 [==============================] - 7s 15ms/step - loss: 0.1938 - acc: 0.9162 - val_loss: 0.8398 - val_acc: 0.6507\n",
            "Epoch 6/10\n",
            "470/470 [==============================] - 7s 15ms/step - loss: 0.0962 - acc: 0.9628 - val_loss: 1.2440 - val_acc: 0.6528\n",
            "Epoch 7/10\n",
            "470/470 [==============================] - 6s 13ms/step - loss: 0.0605 - acc: 0.9752 - val_loss: 1.7529 - val_acc: 0.6464\n",
            "Epoch 8/10\n",
            "470/470 [==============================] - 6s 13ms/step - loss: 0.0547 - acc: 0.9803 - val_loss: 2.5071 - val_acc: 0.6528\n",
            "Epoch 9/10\n",
            "470/470 [==============================] - 6s 12ms/step - loss: 0.0420 - acc: 0.9847 - val_loss: 2.4843 - val_acc: 0.6534\n",
            "Epoch 10/10\n",
            "470/470 [==============================] - 7s 16ms/step - loss: 0.0361 - acc: 0.9856 - val_loss: 3.7399 - val_acc: 0.6422\n"
          ]
        },
        {
          "output_type": "execute_result",
          "data": {
            "text/plain": [
              "<keras.callbacks.History at 0x7f3c5570ceb0>"
            ]
          },
          "metadata": {},
          "execution_count": 20
        }
      ]
    },
    {
      "cell_type": "code",
      "source": [
        "# immediate task transfer learning"
      ],
      "metadata": {
        "id": "yoH0t-LmHh0p"
      },
      "execution_count": 21,
      "outputs": []
    },
    {
      "cell_type": "code",
      "source": [
        "imdb_df = pd.read_csv('IMDB Dataset.csv')\n",
        "imdb_df['Message'] = imdb_df['review'].apply(preprocess_text)\n",
        "imdb_df.head(10)"
      ],
      "metadata": {
        "execution": {
          "iopub.status.busy": "2023-04-09T17:37:59.703006Z",
          "iopub.execute_input": "2023-04-09T17:37:59.703388Z",
          "iopub.status.idle": "2023-04-09T17:43:52.284162Z",
          "shell.execute_reply.started": "2023-04-09T17:37:59.703325Z",
          "shell.execute_reply": "2023-04-09T17:43:52.283368Z"
        },
        "trusted": true,
        "colab": {
          "base_uri": "https://localhost:8080/",
          "height": 362
        },
        "id": "cqfTC_H9Hh0p",
        "outputId": "927fdc4e-028d-434c-c66f-aead1b80df8f"
      },
      "execution_count": 53,
      "outputs": [
        {
          "output_type": "execute_result",
          "data": {
            "text/plain": [
              "                                              review sentiment  \\\n",
              "0  One of the other reviewers has mentioned that ...  positive   \n",
              "1  A wonderful little production. <br /><br />The...  positive   \n",
              "2  I thought this was a wonderful way to spend ti...  positive   \n",
              "3  Basically there's a family where a little boy ...  negative   \n",
              "4  Petter Mattei's \"Love in the Time of Money\" is...  positive   \n",
              "5  Probably my all-time favorite movie, a story o...  positive   \n",
              "6  I sure would like to see a resurrection of a u...  positive   \n",
              "7  This show was an amazing, fresh & innovative i...  negative   \n",
              "8  Encouraged by the positive comments about this...  negative   \n",
              "9  If you like original gut wrenching laughter yo...  positive   \n",
              "\n",
              "                                             Message  \n",
              "0  e    review  nti   watch  oz epod    hook y  r...  \n",
              "1  a wder ltl product br br  film techniqu   unas...  \n",
              "2  i thought   wer way  spen time  o hot summer w...  \n",
              "3  bsic   fmily  littl boy jke thk   zombi   clos...  \n",
              "4  petter mattei love   time  mey  vuy stunng fil...  \n",
              "5  probabl   time fav movi sri  selfless sacrific...  \n",
              "6  i sure would like  see resurrect   date seahun...  \n",
              "7  thi s   amaz fresh nov idea     first air  fir...  \n",
              "8  encourag   pos comnt   film    look ward  wch ...  \n",
              "9  if  like igin gut wrench laughter   like  movi...  "
            ],
            "text/html": [
              "\n",
              "  <div id=\"df-71bf77bd-4f46-43f6-b75b-eae328a4c749\">\n",
              "    <div class=\"colab-df-container\">\n",
              "      <div>\n",
              "<style scoped>\n",
              "    .dataframe tbody tr th:only-of-type {\n",
              "        vertical-align: middle;\n",
              "    }\n",
              "\n",
              "    .dataframe tbody tr th {\n",
              "        vertical-align: top;\n",
              "    }\n",
              "\n",
              "    .dataframe thead th {\n",
              "        text-align: right;\n",
              "    }\n",
              "</style>\n",
              "<table border=\"1\" class=\"dataframe\">\n",
              "  <thead>\n",
              "    <tr style=\"text-align: right;\">\n",
              "      <th></th>\n",
              "      <th>review</th>\n",
              "      <th>sentiment</th>\n",
              "      <th>Message</th>\n",
              "    </tr>\n",
              "  </thead>\n",
              "  <tbody>\n",
              "    <tr>\n",
              "      <th>0</th>\n",
              "      <td>One of the other reviewers has mentioned that ...</td>\n",
              "      <td>positive</td>\n",
              "      <td>e    review  nti   watch  oz epod    hook y  r...</td>\n",
              "    </tr>\n",
              "    <tr>\n",
              "      <th>1</th>\n",
              "      <td>A wonderful little production. &lt;br /&gt;&lt;br /&gt;The...</td>\n",
              "      <td>positive</td>\n",
              "      <td>a wder ltl product br br  film techniqu   unas...</td>\n",
              "    </tr>\n",
              "    <tr>\n",
              "      <th>2</th>\n",
              "      <td>I thought this was a wonderful way to spend ti...</td>\n",
              "      <td>positive</td>\n",
              "      <td>i thought   wer way  spen time  o hot summer w...</td>\n",
              "    </tr>\n",
              "    <tr>\n",
              "      <th>3</th>\n",
              "      <td>Basically there's a family where a little boy ...</td>\n",
              "      <td>negative</td>\n",
              "      <td>bsic   fmily  littl boy jke thk   zombi   clos...</td>\n",
              "    </tr>\n",
              "    <tr>\n",
              "      <th>4</th>\n",
              "      <td>Petter Mattei's \"Love in the Time of Money\" is...</td>\n",
              "      <td>positive</td>\n",
              "      <td>petter mattei love   time  mey  vuy stunng fil...</td>\n",
              "    </tr>\n",
              "    <tr>\n",
              "      <th>5</th>\n",
              "      <td>Probably my all-time favorite movie, a story o...</td>\n",
              "      <td>positive</td>\n",
              "      <td>probabl   time fav movi sri  selfless sacrific...</td>\n",
              "    </tr>\n",
              "    <tr>\n",
              "      <th>6</th>\n",
              "      <td>I sure would like to see a resurrection of a u...</td>\n",
              "      <td>positive</td>\n",
              "      <td>i sure would like  see resurrect   date seahun...</td>\n",
              "    </tr>\n",
              "    <tr>\n",
              "      <th>7</th>\n",
              "      <td>This show was an amazing, fresh &amp; innovative i...</td>\n",
              "      <td>negative</td>\n",
              "      <td>thi s   amaz fresh nov idea     first air  fir...</td>\n",
              "    </tr>\n",
              "    <tr>\n",
              "      <th>8</th>\n",
              "      <td>Encouraged by the positive comments about this...</td>\n",
              "      <td>negative</td>\n",
              "      <td>encourag   pos comnt   film    look ward  wch ...</td>\n",
              "    </tr>\n",
              "    <tr>\n",
              "      <th>9</th>\n",
              "      <td>If you like original gut wrenching laughter yo...</td>\n",
              "      <td>positive</td>\n",
              "      <td>if  like igin gut wrench laughter   like  movi...</td>\n",
              "    </tr>\n",
              "  </tbody>\n",
              "</table>\n",
              "</div>\n",
              "      <button class=\"colab-df-convert\" onclick=\"convertToInteractive('df-71bf77bd-4f46-43f6-b75b-eae328a4c749')\"\n",
              "              title=\"Convert this dataframe to an interactive table.\"\n",
              "              style=\"display:none;\">\n",
              "        \n",
              "  <svg xmlns=\"http://www.w3.org/2000/svg\" height=\"24px\"viewBox=\"0 0 24 24\"\n",
              "       width=\"24px\">\n",
              "    <path d=\"M0 0h24v24H0V0z\" fill=\"none\"/>\n",
              "    <path d=\"M18.56 5.44l.94 2.06.94-2.06 2.06-.94-2.06-.94-.94-2.06-.94 2.06-2.06.94zm-11 1L8.5 8.5l.94-2.06 2.06-.94-2.06-.94L8.5 2.5l-.94 2.06-2.06.94zm10 10l.94 2.06.94-2.06 2.06-.94-2.06-.94-.94-2.06-.94 2.06-2.06.94z\"/><path d=\"M17.41 7.96l-1.37-1.37c-.4-.4-.92-.59-1.43-.59-.52 0-1.04.2-1.43.59L10.3 9.45l-7.72 7.72c-.78.78-.78 2.05 0 2.83L4 21.41c.39.39.9.59 1.41.59.51 0 1.02-.2 1.41-.59l7.78-7.78 2.81-2.81c.8-.78.8-2.07 0-2.86zM5.41 20L4 18.59l7.72-7.72 1.47 1.35L5.41 20z\"/>\n",
              "  </svg>\n",
              "      </button>\n",
              "      \n",
              "  <style>\n",
              "    .colab-df-container {\n",
              "      display:flex;\n",
              "      flex-wrap:wrap;\n",
              "      gap: 12px;\n",
              "    }\n",
              "\n",
              "    .colab-df-convert {\n",
              "      background-color: #E8F0FE;\n",
              "      border: none;\n",
              "      border-radius: 50%;\n",
              "      cursor: pointer;\n",
              "      display: none;\n",
              "      fill: #1967D2;\n",
              "      height: 32px;\n",
              "      padding: 0 0 0 0;\n",
              "      width: 32px;\n",
              "    }\n",
              "\n",
              "    .colab-df-convert:hover {\n",
              "      background-color: #E2EBFA;\n",
              "      box-shadow: 0px 1px 2px rgba(60, 64, 67, 0.3), 0px 1px 3px 1px rgba(60, 64, 67, 0.15);\n",
              "      fill: #174EA6;\n",
              "    }\n",
              "\n",
              "    [theme=dark] .colab-df-convert {\n",
              "      background-color: #3B4455;\n",
              "      fill: #D2E3FC;\n",
              "    }\n",
              "\n",
              "    [theme=dark] .colab-df-convert:hover {\n",
              "      background-color: #434B5C;\n",
              "      box-shadow: 0px 1px 3px 1px rgba(0, 0, 0, 0.15);\n",
              "      filter: drop-shadow(0px 1px 2px rgba(0, 0, 0, 0.3));\n",
              "      fill: #FFFFFF;\n",
              "    }\n",
              "  </style>\n",
              "\n",
              "      <script>\n",
              "        const buttonEl =\n",
              "          document.querySelector('#df-71bf77bd-4f46-43f6-b75b-eae328a4c749 button.colab-df-convert');\n",
              "        buttonEl.style.display =\n",
              "          google.colab.kernel.accessAllowed ? 'block' : 'none';\n",
              "\n",
              "        async function convertToInteractive(key) {\n",
              "          const element = document.querySelector('#df-71bf77bd-4f46-43f6-b75b-eae328a4c749');\n",
              "          const dataTable =\n",
              "            await google.colab.kernel.invokeFunction('convertToInteractive',\n",
              "                                                     [key], {});\n",
              "          if (!dataTable) return;\n",
              "\n",
              "          const docLinkHtml = 'Like what you see? Visit the ' +\n",
              "            '<a target=\"_blank\" href=https://colab.research.google.com/notebooks/data_table.ipynb>data table notebook</a>'\n",
              "            + ' to learn more about interactive tables.';\n",
              "          element.innerHTML = '';\n",
              "          dataTable['output_type'] = 'display_data';\n",
              "          await google.colab.output.renderOutput(dataTable, element);\n",
              "          const docLink = document.createElement('div');\n",
              "          docLink.innerHTML = docLinkHtml;\n",
              "          element.appendChild(docLink);\n",
              "        }\n",
              "      </script>\n",
              "    </div>\n",
              "  </div>\n",
              "  "
            ]
          },
          "metadata": {},
          "execution_count": 53
        }
      ]
    },
    {
      "cell_type": "code",
      "source": [
        "mes = []\n",
        "for i in df['Message']:\n",
        "    mes.append(i.split())\n",
        "for i in imdb_df['Message']:\n",
        "    mes.append(i.split())\n",
        "print(mes[:2])\n",
        "word2vec_model1 = Word2Vec(mes, vector_size=500, window=3, min_count=1, workers=16)\n",
        "print(word2vec_model1)"
      ],
      "metadata": {
        "execution": {
          "iopub.status.busy": "2023-04-09T17:47:34.128216Z",
          "iopub.execute_input": "2023-04-09T17:47:34.128550Z",
          "iopub.status.idle": "2023-04-09T17:48:44.608583Z",
          "shell.execute_reply.started": "2023-04-09T17:47:34.128502Z",
          "shell.execute_reply": "2023-04-09T17:48:44.607723Z"
        },
        "trusted": true,
        "colab": {
          "base_uri": "https://localhost:8080/"
        },
        "id": "Zyy5-BP0Hh0q",
        "outputId": "7a99490b-2462-4a1a-a2e8-f5271827129d"
      },
      "execution_count": 23,
      "outputs": [
        {
          "output_type": "stream",
          "name": "stdout",
          "text": [
            "[['if', 'true', 'freedom', 'speech', 'doom', 'harass', 'subject', 'now', 'claim', 'book', 'like', 'harass', 'ban'], ['neener', 'neener', 'time', 'go', 'playground', 'yet']]\n",
            "Word2Vec<vocab=156204, vector_size=500, alpha=0.025>\n"
          ]
        }
      ]
    },
    {
      "cell_type": "code",
      "source": [
        "token1 = Tokenizer(156204)\n",
        "token1.fit_on_texts(df['Message'].append(imdb_df['Message']))\n",
        "text1 = token1.texts_to_sequences(imdb_df['Message'])\n",
        "text1 = pad_sequences(text1, 75)\n",
        "print(text1[:2])\n",
        "le = preprocessing.LabelEncoder()\n",
        "y1 = le.fit_transform(imdb_df['sentiment'])\n",
        "y1 = to_categorical(y1)\n",
        "y1[:2]"
      ],
      "metadata": {
        "execution": {
          "iopub.status.busy": "2023-04-09T17:50:26.280997Z",
          "iopub.execute_input": "2023-04-09T17:50:26.281405Z",
          "iopub.status.idle": "2023-04-09T17:50:32.829966Z",
          "shell.execute_reply.started": "2023-04-09T17:50:26.281333Z",
          "shell.execute_reply": "2023-04-09T17:50:32.829148Z"
        },
        "trusted": true,
        "colab": {
          "base_uri": "https://localhost:8080/"
        },
        "id": "Lm_hQVdsHh0q",
        "outputId": "8f9c3ca9-6352-4f01-d590-7b6cd30b7507"
      },
      "execution_count": 54,
      "outputs": [
        {
          "output_type": "stream",
          "name": "stderr",
          "text": [
            "<ipython-input-54-4d86ed010100>:2: FutureWarning: The series.append method is deprecated and will be removed from pandas in a future version. Use pandas.concat instead.\n",
            "  token1.fit_on_texts(df['Message'].append(imdb_df['Message']))\n"
          ]
        },
        {
          "output_type": "stream",
          "name": "stdout",
          "text": [
            "[[  152   291 12580  6396   262    19  1220    19  2424  2841   470   167\n",
            "     33   849    75   169  3087  2361    16  2929    63    16  2058    84\n",
            "    481  2362  2841   115 32964   221   521  1500   478   374   478   844\n",
            "   3252  2159   254 21861 18693   935   658    19   207    91 21159   681\n",
            "    799 18693    32   114   741 32965   581    23   384   720  1033   741\n",
            "    334   593  2841   145   158  7892  7973  1000    12    28    19   180\n",
            "     22  4996   232]\n",
            " [  560  1758   115 70894   368  2558    40   299   288    18 18276   590\n",
            "   2251   881  1215  6915  2117    43   412    84 50923   369  1008   251\n",
            "   2901   356     7   128  2901   204     6    97     1     1  2077   179\n",
            "    105   441     8   273   582  5098  2159   266    78  4543  1018 25507\n",
            "   7891  1788    13  8376   120    62  2821 23547   630     8    24 27730\n",
            "  10772 41169   112   630    23  2454     8 41169 41170 11404     7  2345\n",
            "    258    43   113]]\n"
          ]
        },
        {
          "output_type": "execute_result",
          "data": {
            "text/plain": [
              "array([[0., 1.],\n",
              "       [0., 1.]], dtype=float32)"
            ]
          },
          "metadata": {},
          "execution_count": 54
        }
      ]
    },
    {
      "cell_type": "code",
      "source": [
        "# for i in range(len(y1)):\n",
        "#     if y1[i][0]==0:\n",
        "#         y1[i][0]=1\n",
        "#         y1[i][1]=0\n",
        "#     else:\n",
        "#         y1[i][1]=0\n",
        "#         y1[i][0]=1"
      ],
      "metadata": {
        "execution": {
          "iopub.status.busy": "2023-04-09T17:24:01.952383Z",
          "iopub.execute_input": "2023-04-09T17:24:01.952846Z",
          "iopub.status.idle": "2023-04-09T17:24:02.111757Z",
          "shell.execute_reply.started": "2023-04-09T17:24:01.952798Z",
          "shell.execute_reply": "2023-04-09T17:24:02.110995Z"
        },
        "trusted": true,
        "id": "EMt50yVIHh0r"
      },
      "execution_count": 25,
      "outputs": []
    },
    {
      "cell_type": "code",
      "source": [
        "x_train, x_test, y_train, y_test = train_test_split(np.array(text1), y1, test_size=0.2, stratify=y1, random_state=42)"
      ],
      "metadata": {
        "execution": {
          "iopub.status.busy": "2023-04-09T17:32:47.622178Z",
          "iopub.execute_input": "2023-04-09T17:32:47.622675Z",
          "iopub.status.idle": "2023-04-09T17:32:47.986512Z",
          "shell.execute_reply.started": "2023-04-09T17:32:47.622460Z",
          "shell.execute_reply": "2023-04-09T17:32:47.985611Z"
        },
        "trusted": true,
        "id": "By3ILFcVHh0s"
      },
      "execution_count": 55,
      "outputs": []
    },
    {
      "cell_type": "code",
      "source": [
        "\n",
        "keras_model = keras.models.Sequential()\n",
        "keras_model.add(keras.layers.Embedding(input_dim=len(word2vec_model.wv.key_to_index), output_dim=500, input_length=75, weights=[word2vec_model.wv.vectors],  trainable=True))\n",
        "\n",
        "keras_model.add(Dropout(0.2))\n",
        "keras_model.add(Conv1D(50, 3, activation='relu', padding='same', strides=1))\n",
        "keras_model.add(Conv1D(50, 3, activation='relu', padding='same', strides=1))\n",
        "keras_model.add(MaxPool1D())\n",
        "keras_model.add(Dropout(0.2))\n",
        "keras_model.add(Conv1D(100, 3, activation='relu', padding='same', strides=1))\n",
        "keras_model.add(Conv1D(100, 3, activation='relu', padding='same', strides=1))\n",
        "keras_model.add(MaxPool1D())\n",
        "keras_model.add(Dropout(0.2))\n",
        "keras_model.add(Conv1D(200, 3, activation='relu', padding='same', strides=1))\n",
        "keras_model.add(Conv1D(200, 3, activation='relu', padding='same', strides=1))\n",
        "keras_model.add(GlobalMaxPool1D())\n",
        "keras_model.add(Dropout(0.2))\n",
        "keras_model.add(Dense(200))\n",
        "keras_model.add(Activation('relu'))\n",
        "keras_model.add(Dropout(0.2))\n",
        "keras_model.add(Dense(2))\n",
        "keras_model.add(Activation('softmax'))\n",
        "keras_model.compile(loss='binary_crossentropy', metrics=['accuracy'], optimizer='adam')\n",
        "keras_model.fit(x_train, y_train, batch_size=512, epochs=10, validation_data=(x_test, y_test))"
      ],
      "metadata": {
        "execution": {
          "iopub.status.busy": "2023-04-09T17:53:28.288905Z",
          "iopub.execute_input": "2023-04-09T17:53:28.290300Z",
          "iopub.status.idle": "2023-04-09T18:26:18.124913Z",
          "shell.execute_reply.started": "2023-04-09T17:53:28.290220Z",
          "shell.execute_reply": "2023-04-09T18:26:18.124053Z"
        },
        "trusted": true,
        "colab": {
          "base_uri": "https://localhost:8080/"
        },
        "id": "E9w3wnq_Hh0s",
        "outputId": "a1e5a9b7-0f7f-4c62-c326-fe5815bf4c6d"
      },
      "execution_count": 56,
      "outputs": [
        {
          "output_type": "stream",
          "name": "stdout",
          "text": [
            "Epoch 1/10\n",
            "79/79 [==============================] - 19s 186ms/step - loss: 0.6934 - accuracy: 0.4981 - val_loss: 0.6932 - val_accuracy: 0.5000\n",
            "Epoch 2/10\n",
            "79/79 [==============================] - 12s 158ms/step - loss: 0.6928 - accuracy: 0.5094 - val_loss: 0.6918 - val_accuracy: 0.5310\n",
            "Epoch 3/10\n",
            "79/79 [==============================] - 11s 138ms/step - loss: 0.5708 - accuracy: 0.6868 - val_loss: 0.3978 - val_accuracy: 0.8204\n",
            "Epoch 4/10\n",
            "79/79 [==============================] - 9s 110ms/step - loss: 0.3342 - accuracy: 0.8571 - val_loss: 0.4003 - val_accuracy: 0.8217\n",
            "Epoch 5/10\n",
            "79/79 [==============================] - 9s 106ms/step - loss: 0.2246 - accuracy: 0.9107 - val_loss: 0.4182 - val_accuracy: 0.8330\n",
            "Epoch 6/10\n",
            "79/79 [==============================] - 8s 106ms/step - loss: 0.1283 - accuracy: 0.9525 - val_loss: 0.5442 - val_accuracy: 0.8144\n",
            "Epoch 7/10\n",
            "79/79 [==============================] - 6s 73ms/step - loss: 0.0565 - accuracy: 0.9821 - val_loss: 0.7785 - val_accuracy: 0.8138\n",
            "Epoch 8/10\n",
            "79/79 [==============================] - 7s 87ms/step - loss: 0.0238 - accuracy: 0.9922 - val_loss: 0.9114 - val_accuracy: 0.8184\n",
            "Epoch 9/10\n",
            "79/79 [==============================] - 7s 81ms/step - loss: 0.0208 - accuracy: 0.9930 - val_loss: 1.1104 - val_accuracy: 0.8077\n",
            "Epoch 10/10\n",
            "79/79 [==============================] - 6s 80ms/step - loss: 0.0095 - accuracy: 0.9971 - val_loss: 1.5591 - val_accuracy: 0.8034\n"
          ]
        },
        {
          "output_type": "execute_result",
          "data": {
            "text/plain": [
              "<keras.callbacks.History at 0x7f3c549c93a0>"
            ]
          },
          "metadata": {},
          "execution_count": 56
        }
      ]
    },
    {
      "cell_type": "code",
      "source": [
        "import pickle\n",
        "\n",
        "filename = 'finalized_model.sav'\n",
        "pickle.dump(keras_model, open(filename, 'wb'))"
      ],
      "metadata": {
        "execution": {
          "iopub.status.busy": "2023-04-09T18:31:32.515837Z",
          "iopub.execute_input": "2023-04-09T18:31:32.516231Z",
          "iopub.status.idle": "2023-04-09T18:31:41.818059Z",
          "shell.execute_reply.started": "2023-04-09T18:31:32.516174Z",
          "shell.execute_reply": "2023-04-09T18:31:41.817256Z"
        },
        "trusted": true,
        "id": "8iz3jzAJHh0t"
      },
      "execution_count": 57,
      "outputs": []
    },
    {
      "cell_type": "code",
      "source": [
        "text= token1.texts_to_sequences(df['Message'])\n",
        "text = pad_sequences(text, 75)\n",
        "print(text[:2])\n",
        "le = preprocessing.LabelEncoder()\n",
        "y1 = le.fit_transform(df['class'])\n",
        "y1 = to_categorical(y1)\n",
        "y1[:2]"
      ],
      "metadata": {
        "colab": {
          "base_uri": "https://localhost:8080/"
        },
        "id": "6D4wkX8eBCSN",
        "outputId": "7ce7380d-0f46-4d43-cf39-3c502804e60a"
      },
      "execution_count": 58,
      "outputs": [
        {
          "output_type": "stream",
          "name": "stdout",
          "text": [
            "[[    0     0     0     0     0     0     0     0     0     0     0     0\n",
            "      0     0     0     0     0     0     0     0     0     0     0     0\n",
            "      0     0     0     0     0     0     0     0     0     0     0     0\n",
            "      0     0     0     0     0     0     0     0     0     0     0     0\n",
            "      0     0     0     0     0     0     0     0     0     0     0     0\n",
            "      0     0    99   194  2911  1647  3809 15971   504   569  1026   151\n",
            "     11 15971  3565]\n",
            " [    0     0     0     0     0     0     0     0     0     0     0     0\n",
            "      0     0     0     0     0     0     0     0     0     0     0     0\n",
            "      0     0     0     0     0     0     0     0     0     0     0     0\n",
            "      0     0     0     0     0     0     0     0     0     0     0     0\n",
            "      0     0     0     0     0     0     0     0     0     0     0     0\n",
            "      0     0     0     0     0     0     0     0     0 68859 68859    30\n",
            "     47 14688   155]]\n"
          ]
        },
        {
          "output_type": "execute_result",
          "data": {
            "text/plain": [
              "array([[1., 0.],\n",
              "       [1., 0.]], dtype=float32)"
            ]
          },
          "metadata": {},
          "execution_count": 58
        }
      ]
    },
    {
      "cell_type": "code",
      "source": [
        "for i in range(len(y1)):\n",
        "    \n",
        "    y1[i][0], y1[i][1] = y1[i][1], y1[i][0]"
      ],
      "metadata": {
        "execution": {
          "iopub.status.busy": "2023-04-09T18:52:32.226307Z",
          "iopub.execute_input": "2023-04-09T18:52:32.226638Z",
          "iopub.status.idle": "2023-04-09T18:52:32.241873Z",
          "shell.execute_reply.started": "2023-04-09T18:52:32.226596Z",
          "shell.execute_reply": "2023-04-09T18:52:32.241047Z"
        },
        "trusted": true,
        "id": "zZRTQAOoHh0v"
      },
      "execution_count": 59,
      "outputs": []
    },
    {
      "cell_type": "code",
      "source": [
        "y1[:5]"
      ],
      "metadata": {
        "execution": {
          "iopub.status.busy": "2023-04-09T18:52:33.766390Z",
          "iopub.execute_input": "2023-04-09T18:52:33.767031Z",
          "iopub.status.idle": "2023-04-09T18:52:33.772716Z",
          "shell.execute_reply.started": "2023-04-09T18:52:33.766976Z",
          "shell.execute_reply": "2023-04-09T18:52:33.772060Z"
        },
        "trusted": true,
        "colab": {
          "base_uri": "https://localhost:8080/"
        },
        "id": "K711hh9yHh0w",
        "outputId": "ae36f616-530e-4410-fbea-405e9bc27900"
      },
      "execution_count": 60,
      "outputs": [
        {
          "output_type": "execute_result",
          "data": {
            "text/plain": [
              "array([[0., 1.],\n",
              "       [0., 1.],\n",
              "       [0., 1.],\n",
              "       [0., 1.],\n",
              "       [0., 1.]], dtype=float32)"
            ]
          },
          "metadata": {},
          "execution_count": 60
        }
      ]
    },
    {
      "cell_type": "code",
      "source": [
        "x_train, x_test, y_train, y_test = train_test_split(np.array(text), y1, test_size=0.2, stratify=y1, random_state=42)"
      ],
      "metadata": {
        "execution": {
          "iopub.status.busy": "2023-04-09T18:58:01.099755Z",
          "iopub.execute_input": "2023-04-09T18:58:01.100163Z",
          "iopub.status.idle": "2023-04-09T18:58:01.154989Z",
          "shell.execute_reply.started": "2023-04-09T18:58:01.100104Z",
          "shell.execute_reply": "2023-04-09T18:58:01.154098Z"
        },
        "trusted": true,
        "id": "dz39WbtrHh0w"
      },
      "execution_count": 45,
      "outputs": []
    },
    {
      "cell_type": "markdown",
      "source": [],
      "metadata": {
        "id": "j80yoZuDBdAR"
      }
    },
    {
      "cell_type": "code",
      "source": [
        "loaded_model = pickle.load(open(\"finalized_model.sav\", \"rb\"))"
      ],
      "metadata": {
        "execution": {
          "iopub.status.busy": "2023-04-09T19:15:51.149617Z",
          "iopub.execute_input": "2023-04-09T19:15:51.149999Z",
          "iopub.status.idle": "2023-04-09T19:16:11.182418Z",
          "shell.execute_reply.started": "2023-04-09T19:15:51.149944Z",
          "shell.execute_reply": "2023-04-09T19:16:11.181420Z"
        },
        "trusted": true,
        "id": "0uebLjw5Hh0x"
      },
      "execution_count": 63,
      "outputs": []
    },
    {
      "cell_type": "code",
      "source": [
        "loaded_model.fit(text, y, batch_size=512, epochs=10, validation_data=(x_test, y_test))"
      ],
      "metadata": {
        "execution": {
          "iopub.status.busy": "2023-04-09T19:16:18.920138Z",
          "iopub.execute_input": "2023-04-09T19:16:18.920473Z",
          "iopub.status.idle": "2023-04-09T19:23:30.540412Z",
          "shell.execute_reply.started": "2023-04-09T19:16:18.920426Z",
          "shell.execute_reply": "2023-04-09T19:23:30.539728Z"
        },
        "trusted": true,
        "colab": {
          "base_uri": "https://localhost:8080/"
        },
        "id": "Cdr6Ldu8Hh0y",
        "outputId": "fd4cda4d-7f7c-47c2-fe7b-140db10274a3"
      },
      "execution_count": 64,
      "outputs": [
        {
          "output_type": "stream",
          "name": "stdout",
          "text": [
            "Epoch 1/10\n",
            "19/19 [==============================] - 8s 262ms/step - loss: 0.9400 - accuracy: 0.4979 - val_loss: 0.6927 - val_accuracy: 0.5928\n",
            "Epoch 2/10\n",
            "19/19 [==============================] - 4s 195ms/step - loss: 0.6922 - accuracy: 0.5186 - val_loss: 0.6827 - val_accuracy: 0.5007\n",
            "Epoch 3/10\n",
            "19/19 [==============================] - 4s 218ms/step - loss: 0.6806 - accuracy: 0.5789 - val_loss: 0.6491 - val_accuracy: 0.5725\n",
            "Epoch 4/10\n",
            "19/19 [==============================] - 4s 201ms/step - loss: 0.6606 - accuracy: 0.6159 - val_loss: 0.6579 - val_accuracy: 0.5504\n",
            "Epoch 5/10\n",
            "19/19 [==============================] - 4s 194ms/step - loss: 0.6365 - accuracy: 0.6516 - val_loss: 0.6146 - val_accuracy: 0.6385\n",
            "Epoch 6/10\n",
            "19/19 [==============================] - 3s 159ms/step - loss: 0.5915 - accuracy: 0.6952 - val_loss: 0.6236 - val_accuracy: 0.6314\n",
            "Epoch 7/10\n",
            "19/19 [==============================] - 3s 161ms/step - loss: 0.5299 - accuracy: 0.7473 - val_loss: 0.5673 - val_accuracy: 0.7132\n",
            "Epoch 8/10\n",
            "19/19 [==============================] - 3s 191ms/step - loss: 0.4747 - accuracy: 0.7870 - val_loss: 0.5786 - val_accuracy: 0.7002\n",
            "Epoch 9/10\n",
            "19/19 [==============================] - 4s 181ms/step - loss: 0.3916 - accuracy: 0.8362 - val_loss: 0.6906 - val_accuracy: 0.6603\n",
            "Epoch 10/10\n",
            "19/19 [==============================] - 3s 179ms/step - loss: 0.3109 - accuracy: 0.8736 - val_loss: 0.9266 - val_accuracy: 0.6523\n"
          ]
        },
        {
          "output_type": "execute_result",
          "data": {
            "text/plain": [
              "<keras.callbacks.History at 0x7f3b4c8181c0>"
            ]
          },
          "metadata": {},
          "execution_count": 64
        }
      ]
    },
    {
      "cell_type": "code",
      "source": [],
      "metadata": {
        "id": "CEnybiRBHh0y"
      },
      "execution_count": null,
      "outputs": []
    }
  ]
}