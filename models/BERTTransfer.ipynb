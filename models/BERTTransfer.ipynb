{
 "cells": [
  {
   "cell_type": "code",
   "execution_count": 1,
   "id": "acbff53c-ccea-4f26-b901-24e589aee6f0",
   "metadata": {},
   "outputs": [
    {
     "name": "stdout",
     "output_type": "stream",
     "text": [
      "        class    id                                               text\n",
      "0     notsarc     1  If that's true, then Freedom of Speech is doom...\n",
      "1     notsarc     2  Neener neener - is it time to go in from the p...\n",
      "2     notsarc     3  Just like the plastic gun fear, the armour pie...\n",
      "3     notsarc     4  So geology is a religion because we weren't he...\n",
      "4     notsarc     5  Well done Monty. Mark that up as your first ev...\n",
      "...       ...   ...                                                ...\n",
      "6515     sarc  6516  depends on when the baby bird died.   run alon...\n",
      "6516     sarc  6517  ok, sheesh, to clarify, women who arent aborti...\n",
      "6517     sarc  6518  so..   eh??   hows this sound?   will it fly w...\n",
      "6518     sarc  6519  I think we should put to a vote, the right of ...\n",
      "6519     sarc  6520  You have a blob of tissue in your \"but(sic)\"? ...\n",
      "\n",
      "[6520 rows x 3 columns]\n"
     ]
    }
   ],
   "source": [
    "import pandas as pd\n",
    "\n",
    "df = pd.read_csv(r'gen_dataset.csv')\n",
    "print(df)\n",
    "text_data = list(df[\"text\"])\n",
    "class_data = df[\"class\"].to_numpy()\n",
    "for i in range(len(class_data)):\n",
    "    if class_data[i]=='notsarc':\n",
    "        class_data[i]=0\n",
    "    else:\n",
    "        class_data[i]=1"
   ]
  },
  {
   "cell_type": "code",
   "execution_count": 2,
   "id": "179be15e-d9ff-43d1-83bc-0b5cb6cda765",
   "metadata": {},
   "outputs": [
    {
     "name": "stdout",
     "output_type": "stream",
     "text": [
      "                                                  review sentiment\n",
      "0      One of the other reviewers has mentioned that ...  positive\n",
      "1      A wonderful little production. <br /><br />The...  positive\n",
      "2      I thought this was a wonderful way to spend ti...  positive\n",
      "3      Basically there's a family where a little boy ...  negative\n",
      "4      Petter Mattei's \"Love in the Time of Money\" is...  positive\n",
      "...                                                  ...       ...\n",
      "49995  I thought this movie did a down right good job...  positive\n",
      "49996  Bad plot, bad dialogue, bad acting, idiotic di...  negative\n",
      "49997  I am a Catholic taught in parochial elementary...  negative\n",
      "49998  I'm going to have to disagree with the previou...  negative\n",
      "49999  No one expects the Star Trek movies to be high...  negative\n",
      "\n",
      "[50000 rows x 2 columns]\n"
     ]
    }
   ],
   "source": [
    "df = pd.read_csv(r'imdb_dataset.csv')\n",
    "print(df)\n",
    "text_data1 = list(df[\"review\"])\n",
    "class_data1 = df[\"sentiment\"].to_numpy()\n",
    "for i in range(len(class_data1)):\n",
    "    if class_data1[i]=='negative':\n",
    "        class_data1[i]=1\n",
    "    else:\n",
    "        class_data1[i]=0"
   ]
  },
  {
   "cell_type": "code",
   "execution_count": 3,
   "id": "5771c3ce-a814-4afc-9863-7587f4790414",
   "metadata": {},
   "outputs": [
    {
     "data": {
      "text/plain": [
       "array([0, 0, 0, ..., 1, 1, 1], dtype=object)"
      ]
     },
     "execution_count": 3,
     "metadata": {},
     "output_type": "execute_result"
    }
   ],
   "source": [
    "class_data = list(class_data)\n",
    "class_data1"
   ]
  },
  {
   "cell_type": "code",
   "execution_count": 4,
   "id": "4b56b027-6f26-4286-85b7-0f1a60d2709b",
   "metadata": {},
   "outputs": [
    {
     "name": "stdout",
     "output_type": "stream",
     "text": [
      "cuda\n"
     ]
    },
    {
     "data": {
      "application/vnd.jupyter.widget-view+json": {
       "model_id": "ae6872aac83943c58903feed1cf32933",
       "version_major": 2,
       "version_minor": 0
      },
      "text/plain": [
       "Downloading config.json:   0%|          | 0.00/570 [00:00<?, ?B/s]"
      ]
     },
     "metadata": {},
     "output_type": "display_data"
    },
    {
     "data": {
      "application/vnd.jupyter.widget-view+json": {
       "model_id": "0fff63e148424b988885a0b02e2d512f",
       "version_major": 2,
       "version_minor": 0
      },
      "text/plain": [
       "Downloading pytorch_model.bin:   0%|          | 0.00/420M [00:00<?, ?B/s]"
      ]
     },
     "metadata": {},
     "output_type": "display_data"
    },
    {
     "name": "stderr",
     "output_type": "stream",
     "text": [
      "Some weights of the model checkpoint at bert-base-uncased were not used when initializing BertModel: ['cls.predictions.transform.dense.bias', 'cls.seq_relationship.weight', 'cls.seq_relationship.bias', 'cls.predictions.transform.LayerNorm.bias', 'cls.predictions.transform.LayerNorm.weight', 'cls.predictions.decoder.weight', 'cls.predictions.transform.dense.weight', 'cls.predictions.bias']\n",
      "- This IS expected if you are initializing BertModel from the checkpoint of a model trained on another task or with another architecture (e.g. initializing a BertForSequenceClassification model from a BertForPreTraining model).\n",
      "- This IS NOT expected if you are initializing BertModel from the checkpoint of a model that you expect to be exactly identical (initializing a BertForSequenceClassification model from a BertForSequenceClassification model).\n"
     ]
    },
    {
     "data": {
      "application/vnd.jupyter.widget-view+json": {
       "model_id": "79bb3c1046394540bc79cac884f8703a",
       "version_major": 2,
       "version_minor": 0
      },
      "text/plain": [
       "Downloading vocab.txt:   0%|          | 0.00/226k [00:00<?, ?B/s]"
      ]
     },
     "metadata": {},
     "output_type": "display_data"
    },
    {
     "data": {
      "application/vnd.jupyter.widget-view+json": {
       "model_id": "d97ab554897d4775a65de55be3187b2d",
       "version_major": 2,
       "version_minor": 0
      },
      "text/plain": [
       "Downloading tokenizer_config.json:   0%|          | 0.00/28.0 [00:00<?, ?B/s]"
      ]
     },
     "metadata": {},
     "output_type": "display_data"
    },
    {
     "name": "stdout",
     "output_type": "stream",
     "text": [
      "Epoch  1\n",
      "-------------------------------------------------------------------------------\n",
      "0.3060023307428479\n",
      "Epoch  2\n",
      "-------------------------------------------------------------------------------\n",
      "0.18862668062087748\n",
      "Epoch  3\n",
      "-------------------------------------------------------------------------------\n",
      "0.100796106286938\n",
      "Epoch  4\n",
      "-------------------------------------------------------------------------------\n",
      "0.054286655069765904\n",
      "Epoch  5\n",
      "-------------------------------------------------------------------------------\n",
      "0.03414457407005379\n",
      "Epoch  6\n",
      "-------------------------------------------------------------------------------\n",
      "0.026734518374672642\n",
      "Epoch  7\n",
      "-------------------------------------------------------------------------------\n",
      "0.021522250572370765\n",
      "Epoch  8\n",
      "-------------------------------------------------------------------------------\n",
      "0.01943014884148124\n",
      "Epoch  9\n",
      "-------------------------------------------------------------------------------\n",
      "0.015151195103356486\n",
      "Epoch  10\n",
      "-------------------------------------------------------------------------------\n",
      "0.015163668498356802\n"
     ]
    }
   ],
   "source": [
    "import torch\n",
    "import torch.nn as nn\n",
    "import torch.optim as optim\n",
    "from transformers import BertTokenizer, BertModel\n",
    "\n",
    "device = torch.device(\"cuda\" if torch.cuda.is_available() else \"cpu\")\n",
    "print(device)\n",
    "\n",
    "# Load the pre-trained BERT model and tokenizer\n",
    "model = BertModel.from_pretrained('bert-base-uncased')\n",
    "model.to(device)\n",
    "tokenizer = BertTokenizer.from_pretrained('bert-base-uncased')\n",
    "\n",
    "# Define the classification model\n",
    "class BertClassifier(nn.Module):\n",
    "    def __init__(self, bert_model, num_classes):\n",
    "        super(BertClassifier, self).__init__()\n",
    "        self.bert = bert_model\n",
    "        self.fc = nn.Linear(768, num_classes)\n",
    "\n",
    "    def forward(self, input_ids, attention_mask):\n",
    "        outputs = self.bert(input_ids=input_ids, attention_mask=attention_mask)\n",
    "        pooled_output = outputs[1]\n",
    "        logits = self.fc(pooled_output)\n",
    "        return logits\n",
    "\n",
    "# Load the training data\n",
    "# train_texts = [\"Example sentence 1\", \"Example sentence 2\", ...]\n",
    "# train_labels = [0, 1, ...]\n",
    "\n",
    "# Tokenize the text data\n",
    "train_encodings = tokenizer(list(text_data1), padding=True, truncation=True, max_length=128)\n",
    "\n",
    "# Convert the data into PyTorch tensors\n",
    "train_dataset = torch.utils.data.TensorDataset(\n",
    "    torch.tensor(train_encodings['input_ids']),\n",
    "    torch.tensor(train_encodings['attention_mask']),\n",
    "    torch.tensor(list(class_data1))\n",
    ")\n",
    "\n",
    "# Define the training parameters\n",
    "classifier = BertClassifier(model, num_classes=2)\n",
    "classifier.to(device)\n",
    "criterion = nn.CrossEntropyLoss()\n",
    "optimizer = optim.Adam(classifier.parameters(), lr=2e-5)\n",
    "train_loader = torch.utils.data.DataLoader(train_dataset, batch_size=32, shuffle=True)\n",
    "\n",
    "# Train the BERT classifier\n",
    "classifier.train()\n",
    "for epoch in range(10):\n",
    "    print(\"Epoch \", epoch+1)\n",
    "    losses = []\n",
    "    for idx, batch in enumerate(train_loader):\n",
    "        # batch.to(device)\n",
    "        if(idx % 20 == 0):\n",
    "            print(\"-\", end=\"\")\n",
    "        optimizer.zero_grad()\n",
    "        outputs = classifier(input_ids=batch[0].to(device), attention_mask=batch[1].to(device))\n",
    "        loss = criterion(outputs, batch[2].to(device))\n",
    "        loss.backward()\n",
    "        losses.append(loss.cpu().detach().numpy())\n",
    "        optimizer.step()\n",
    "    print()\n",
    "    print(sum(losses) / len(losses))"
   ]
  },
  {
   "cell_type": "code",
   "execution_count": 5,
   "id": "d54c6def-01e2-4ef4-9179-354abd5fb53b",
   "metadata": {},
   "outputs": [
    {
     "name": "stdout",
     "output_type": "stream",
     "text": [
      "Epoch  1\n",
      "----------------------------------------------------------------------------------\n",
      "0.4984825097675795\n",
      "Epoch  2\n",
      "----------------------------------------------------------------------------------\n",
      "0.3061082740188605\n",
      "Epoch  3\n",
      "----------------------------------------------------------------------------------\n",
      "0.11055537220033491\n",
      "Epoch  4\n",
      "----------------------------------------------------------------------------------\n",
      "0.04891548060233193\n",
      "Epoch  5\n",
      "----------------------------------------------------------------------------------\n",
      "0.039547129436410346\n",
      "Epoch  6\n",
      "----------------------------------------------------------------------------------\n",
      "0.03342138480939124\n",
      "Epoch  7\n",
      "----------------------------------------------------------------------------------\n",
      "0.02529539022436405\n",
      "Epoch  8\n",
      "----------------------------------------------------------------------------------\n",
      "0.019242840190632327\n",
      "Epoch  9\n",
      "----------------------------------------------------------------------------------\n",
      "0.02876824610847412\n",
      "Epoch  10\n",
      "----------------------------------------------------------------------------------\n",
      "0.019556853427947\n"
     ]
    }
   ],
   "source": [
    "# Load the training data\n",
    "# train_texts = [\"Example sentence 1\", \"Example sentence 2\", ...]\n",
    "# train_labels = [0, 1, ...]\n",
    "\n",
    "# Tokenize the text data\n",
    "train_encodings = tokenizer(list(text_data), padding=True, truncation=True, max_length=128)\n",
    "\n",
    "# Convert the data into PyTorch tensors\n",
    "train_dataset = torch.utils.data.TensorDataset(\n",
    "    torch.tensor(train_encodings['input_ids']),\n",
    "    torch.tensor(train_encodings['attention_mask']),\n",
    "    torch.tensor(list(class_data))\n",
    ")\n",
    "\n",
    "# Define the training parameters\n",
    "# classifier = BertClassifier(model, num_classes=2)\n",
    "# classifier.to(device)\n",
    "# criterion = nn.CrossEntropyLoss()\n",
    "# optimizer = optim.Adam(classifier.parameters(), lr=2e-5)\n",
    "train_loader = torch.utils.data.DataLoader(train_dataset, batch_size=4, shuffle=True)\n",
    "\n",
    "# Train the BERT classifier\n",
    "classifier.train()\n",
    "for epoch in range(10):\n",
    "    print(\"Epoch \", epoch+1)\n",
    "    losses = []\n",
    "    for idx, batch in enumerate(train_loader):\n",
    "        # batch.to(device)\n",
    "        if(idx % 20 == 0):\n",
    "            print(\"-\", end=\"\")\n",
    "        optimizer.zero_grad()\n",
    "        outputs = classifier(input_ids=batch[0].to(device), attention_mask=batch[1].to(device))\n",
    "        loss = criterion(outputs, batch[2].to(device))\n",
    "        loss.backward()\n",
    "        losses.append(loss.cpu().detach().numpy())\n",
    "        optimizer.step()\n",
    "    print()\n",
    "    print(sum(losses) / len(losses))"
   ]
  },
  {
   "cell_type": "code",
   "execution_count": 6,
   "id": "22ca1506-6955-43f8-b51a-7e0d5e838de5",
   "metadata": {},
   "outputs": [],
   "source": [
    "torch.save(classifier, \"BERT.pth\")"
   ]
  },
  {
   "cell_type": "code",
   "execution_count": null,
   "id": "d948a6df-3897-407f-a0bf-0c5c89816d44",
   "metadata": {},
   "outputs": [],
   "source": []
  }
 ],
 "metadata": {
  "kernelspec": {
   "display_name": "Chintan",
   "language": "python",
   "name": "chintan"
  },
  "language_info": {
   "codemirror_mode": {
    "name": "ipython",
    "version": 3
   },
   "file_extension": ".py",
   "mimetype": "text/x-python",
   "name": "python",
   "nbconvert_exporter": "python",
   "pygments_lexer": "ipython3",
   "version": "3.10.8"
  }
 },
 "nbformat": 4,
 "nbformat_minor": 5
}
